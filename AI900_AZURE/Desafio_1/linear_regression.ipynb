{
 "cells": [
  {
   "cell_type": "markdown",
   "metadata": {},
   "source": [
    "# Aplicaçã de regressão linear em multipla, onde relaciona todas as colunas com a coluna alvo para uma melhor previsão"
   ]
  },
  {
   "cell_type": "markdown",
   "metadata": {},
   "source": [
    "## Dataset Utilizada é o de alugueis de bicicletaas, disponibilizado pela Azure\n",
    "\n",
    "### Objetivo: Realizar um modelo que melhor preve as vendas de bicicletas dado alguns dados de entrada"
   ]
  },
  {
   "cell_type": "code",
   "execution_count": 297,
   "metadata": {},
   "outputs": [],
   "source": [
    "### Inicialmente importar as bibliotecas que serão utilizadas\n",
    "import pandas as pd\n",
    "import numpy as np\n",
    "from sklearn.linear_model import LinearRegression\n",
    "from sklearn.ensemble import RandomForestRegressor\n",
    "from sklearn.model_selection import train_test_split\n",
    "from sklearn.metrics import mean_squared_error\n",
    "from sklearn.metrics import mean_absolute_error\n",
    "import matplotlib.pyplot as plt\n",
    "import json as js"
   ]
  },
  {
   "cell_type": "markdown",
   "metadata": {},
   "source": [
    "# existe o lightgbm mas n vou trabalahr com ele ainda\n"
   ]
  },
  {
   "cell_type": "code",
   "execution_count": 298,
   "metadata": {},
   "outputs": [
    {
     "data": {
      "text/html": [
       "<div>\n",
       "<style scoped>\n",
       "    .dataframe tbody tr th:only-of-type {\n",
       "        vertical-align: middle;\n",
       "    }\n",
       "\n",
       "    .dataframe tbody tr th {\n",
       "        vertical-align: top;\n",
       "    }\n",
       "\n",
       "    .dataframe thead th {\n",
       "        text-align: right;\n",
       "    }\n",
       "</style>\n",
       "<table border=\"1\" class=\"dataframe\">\n",
       "  <thead>\n",
       "    <tr style=\"text-align: right;\">\n",
       "      <th></th>\n",
       "      <th>day</th>\n",
       "      <th>mnth</th>\n",
       "      <th>year</th>\n",
       "      <th>season</th>\n",
       "      <th>holiday</th>\n",
       "      <th>weekday</th>\n",
       "      <th>workingday</th>\n",
       "      <th>weathersit</th>\n",
       "      <th>temp</th>\n",
       "      <th>atemp</th>\n",
       "      <th>hum</th>\n",
       "      <th>windspeed</th>\n",
       "      <th>rentals</th>\n",
       "    </tr>\n",
       "  </thead>\n",
       "  <tbody>\n",
       "    <tr>\n",
       "      <th>0</th>\n",
       "      <td>1</td>\n",
       "      <td>1</td>\n",
       "      <td>2011</td>\n",
       "      <td>1</td>\n",
       "      <td>0</td>\n",
       "      <td>6</td>\n",
       "      <td>0</td>\n",
       "      <td>2</td>\n",
       "      <td>0.344167</td>\n",
       "      <td>0.363625</td>\n",
       "      <td>0.805833</td>\n",
       "      <td>0.160446</td>\n",
       "      <td>331</td>\n",
       "    </tr>\n",
       "    <tr>\n",
       "      <th>1</th>\n",
       "      <td>2</td>\n",
       "      <td>1</td>\n",
       "      <td>2011</td>\n",
       "      <td>1</td>\n",
       "      <td>0</td>\n",
       "      <td>0</td>\n",
       "      <td>0</td>\n",
       "      <td>2</td>\n",
       "      <td>0.363478</td>\n",
       "      <td>0.353739</td>\n",
       "      <td>0.696087</td>\n",
       "      <td>0.248539</td>\n",
       "      <td>131</td>\n",
       "    </tr>\n",
       "    <tr>\n",
       "      <th>2</th>\n",
       "      <td>3</td>\n",
       "      <td>1</td>\n",
       "      <td>2011</td>\n",
       "      <td>1</td>\n",
       "      <td>0</td>\n",
       "      <td>1</td>\n",
       "      <td>1</td>\n",
       "      <td>1</td>\n",
       "      <td>0.196364</td>\n",
       "      <td>0.189405</td>\n",
       "      <td>0.437273</td>\n",
       "      <td>0.248309</td>\n",
       "      <td>120</td>\n",
       "    </tr>\n",
       "    <tr>\n",
       "      <th>3</th>\n",
       "      <td>4</td>\n",
       "      <td>1</td>\n",
       "      <td>2011</td>\n",
       "      <td>1</td>\n",
       "      <td>0</td>\n",
       "      <td>2</td>\n",
       "      <td>1</td>\n",
       "      <td>1</td>\n",
       "      <td>0.200000</td>\n",
       "      <td>0.212122</td>\n",
       "      <td>0.590435</td>\n",
       "      <td>0.160296</td>\n",
       "      <td>108</td>\n",
       "    </tr>\n",
       "    <tr>\n",
       "      <th>4</th>\n",
       "      <td>5</td>\n",
       "      <td>1</td>\n",
       "      <td>2011</td>\n",
       "      <td>1</td>\n",
       "      <td>0</td>\n",
       "      <td>3</td>\n",
       "      <td>1</td>\n",
       "      <td>1</td>\n",
       "      <td>0.226957</td>\n",
       "      <td>0.229270</td>\n",
       "      <td>0.436957</td>\n",
       "      <td>0.186900</td>\n",
       "      <td>82</td>\n",
       "    </tr>\n",
       "    <tr>\n",
       "      <th>...</th>\n",
       "      <td>...</td>\n",
       "      <td>...</td>\n",
       "      <td>...</td>\n",
       "      <td>...</td>\n",
       "      <td>...</td>\n",
       "      <td>...</td>\n",
       "      <td>...</td>\n",
       "      <td>...</td>\n",
       "      <td>...</td>\n",
       "      <td>...</td>\n",
       "      <td>...</td>\n",
       "      <td>...</td>\n",
       "      <td>...</td>\n",
       "    </tr>\n",
       "    <tr>\n",
       "      <th>726</th>\n",
       "      <td>27</td>\n",
       "      <td>12</td>\n",
       "      <td>2012</td>\n",
       "      <td>1</td>\n",
       "      <td>0</td>\n",
       "      <td>4</td>\n",
       "      <td>1</td>\n",
       "      <td>2</td>\n",
       "      <td>0.254167</td>\n",
       "      <td>0.226642</td>\n",
       "      <td>0.652917</td>\n",
       "      <td>0.350133</td>\n",
       "      <td>247</td>\n",
       "    </tr>\n",
       "    <tr>\n",
       "      <th>727</th>\n",
       "      <td>28</td>\n",
       "      <td>12</td>\n",
       "      <td>2012</td>\n",
       "      <td>1</td>\n",
       "      <td>0</td>\n",
       "      <td>5</td>\n",
       "      <td>1</td>\n",
       "      <td>2</td>\n",
       "      <td>0.253333</td>\n",
       "      <td>0.255046</td>\n",
       "      <td>0.590000</td>\n",
       "      <td>0.155471</td>\n",
       "      <td>644</td>\n",
       "    </tr>\n",
       "    <tr>\n",
       "      <th>728</th>\n",
       "      <td>29</td>\n",
       "      <td>12</td>\n",
       "      <td>2012</td>\n",
       "      <td>1</td>\n",
       "      <td>0</td>\n",
       "      <td>6</td>\n",
       "      <td>0</td>\n",
       "      <td>2</td>\n",
       "      <td>0.253333</td>\n",
       "      <td>0.242400</td>\n",
       "      <td>0.752917</td>\n",
       "      <td>0.124383</td>\n",
       "      <td>159</td>\n",
       "    </tr>\n",
       "    <tr>\n",
       "      <th>729</th>\n",
       "      <td>30</td>\n",
       "      <td>12</td>\n",
       "      <td>2012</td>\n",
       "      <td>1</td>\n",
       "      <td>0</td>\n",
       "      <td>0</td>\n",
       "      <td>0</td>\n",
       "      <td>1</td>\n",
       "      <td>0.255833</td>\n",
       "      <td>0.231700</td>\n",
       "      <td>0.483333</td>\n",
       "      <td>0.350754</td>\n",
       "      <td>364</td>\n",
       "    </tr>\n",
       "    <tr>\n",
       "      <th>730</th>\n",
       "      <td>31</td>\n",
       "      <td>12</td>\n",
       "      <td>2012</td>\n",
       "      <td>1</td>\n",
       "      <td>0</td>\n",
       "      <td>1</td>\n",
       "      <td>1</td>\n",
       "      <td>2</td>\n",
       "      <td>0.215833</td>\n",
       "      <td>0.223487</td>\n",
       "      <td>0.577500</td>\n",
       "      <td>0.154846</td>\n",
       "      <td>439</td>\n",
       "    </tr>\n",
       "  </tbody>\n",
       "</table>\n",
       "<p>731 rows × 13 columns</p>\n",
       "</div>"
      ],
      "text/plain": [
       "     day  mnth  year  season  holiday  weekday  workingday  weathersit  \\\n",
       "0      1     1  2011       1        0        6           0           2   \n",
       "1      2     1  2011       1        0        0           0           2   \n",
       "2      3     1  2011       1        0        1           1           1   \n",
       "3      4     1  2011       1        0        2           1           1   \n",
       "4      5     1  2011       1        0        3           1           1   \n",
       "..   ...   ...   ...     ...      ...      ...         ...         ...   \n",
       "726   27    12  2012       1        0        4           1           2   \n",
       "727   28    12  2012       1        0        5           1           2   \n",
       "728   29    12  2012       1        0        6           0           2   \n",
       "729   30    12  2012       1        0        0           0           1   \n",
       "730   31    12  2012       1        0        1           1           2   \n",
       "\n",
       "         temp     atemp       hum  windspeed  rentals  \n",
       "0    0.344167  0.363625  0.805833   0.160446      331  \n",
       "1    0.363478  0.353739  0.696087   0.248539      131  \n",
       "2    0.196364  0.189405  0.437273   0.248309      120  \n",
       "3    0.200000  0.212122  0.590435   0.160296      108  \n",
       "4    0.226957  0.229270  0.436957   0.186900       82  \n",
       "..        ...       ...       ...        ...      ...  \n",
       "726  0.254167  0.226642  0.652917   0.350133      247  \n",
       "727  0.253333  0.255046  0.590000   0.155471      644  \n",
       "728  0.253333  0.242400  0.752917   0.124383      159  \n",
       "729  0.255833  0.231700  0.483333   0.350754      364  \n",
       "730  0.215833  0.223487  0.577500   0.154846      439  \n",
       "\n",
       "[731 rows x 13 columns]"
      ]
     },
     "execution_count": 298,
     "metadata": {},
     "output_type": "execute_result"
    }
   ],
   "source": [
    "# Subir os dados como dataframe\n",
    "df_regression = pd.read_csv('daily-bike-share.csv').reset_index(drop=True)\n",
    "df_regression"
   ]
  },
  {
   "cell_type": "code",
   "execution_count": 299,
   "metadata": {},
   "outputs": [
    {
     "name": "stdout",
     "output_type": "stream",
     "text": [
      "<class 'pandas.core.frame.DataFrame'>\n",
      "RangeIndex: 731 entries, 0 to 730\n",
      "Data columns (total 13 columns):\n",
      " #   Column      Non-Null Count  Dtype  \n",
      "---  ------      --------------  -----  \n",
      " 0   day         731 non-null    int64  \n",
      " 1   mnth        731 non-null    int64  \n",
      " 2   year        731 non-null    int64  \n",
      " 3   season      731 non-null    int64  \n",
      " 4   holiday     731 non-null    int64  \n",
      " 5   weekday     731 non-null    int64  \n",
      " 6   workingday  731 non-null    int64  \n",
      " 7   weathersit  731 non-null    int64  \n",
      " 8   temp        731 non-null    float64\n",
      " 9   atemp       731 non-null    float64\n",
      " 10  hum         731 non-null    float64\n",
      " 11  windspeed   731 non-null    float64\n",
      " 12  rentals     731 non-null    int64  \n",
      "dtypes: float64(4), int64(9)\n",
      "memory usage: 74.4 KB\n"
     ]
    }
   ],
   "source": [
    "df_regression.info()"
   ]
  },
  {
   "cell_type": "code",
   "execution_count": 300,
   "metadata": {},
   "outputs": [
    {
     "data": {
      "text/plain": [
       "Index(['day', 'mnth', 'year', 'season', 'holiday', 'weekday', 'workingday',\n",
       "       'weathersit', 'temp', 'atemp', 'hum', 'windspeed', 'rentals'],\n",
       "      dtype='object')"
      ]
     },
     "execution_count": 300,
     "metadata": {},
     "output_type": "execute_result"
    }
   ],
   "source": [
    "df_regression.columns"
   ]
  },
  {
   "cell_type": "code",
   "execution_count": 301,
   "metadata": {},
   "outputs": [
    {
     "data": {
      "text/plain": [
       "0      331\n",
       "1      131\n",
       "2      120\n",
       "3      108\n",
       "4       82\n",
       "      ... \n",
       "726    247\n",
       "727    644\n",
       "728    159\n",
       "729    364\n",
       "730    439\n",
       "Name: rentals, Length: 731, dtype: int64"
      ]
     },
     "execution_count": 301,
     "metadata": {},
     "output_type": "execute_result"
    }
   ],
   "source": [
    "# Para pegar os valores de uma coluna dos dados é só colocar ela como metodo do dataframe\n",
    "df_regression.rentals"
   ]
  },
  {
   "cell_type": "code",
   "execution_count": 302,
   "metadata": {},
   "outputs": [],
   "source": [
    "# Como eu quero prever os meus alugueis então ele será o meu y\n",
    "y = df_regressiony = df_regression.rentals\n",
    "x = df_regression[[colunas for colunas in df_regression.columns if colunas != 'rentals']]"
   ]
  },
  {
   "cell_type": "code",
   "execution_count": 303,
   "metadata": {},
   "outputs": [
    {
     "data": {
      "text/html": [
       "<div>\n",
       "<style scoped>\n",
       "    .dataframe tbody tr th:only-of-type {\n",
       "        vertical-align: middle;\n",
       "    }\n",
       "\n",
       "    .dataframe tbody tr th {\n",
       "        vertical-align: top;\n",
       "    }\n",
       "\n",
       "    .dataframe thead th {\n",
       "        text-align: right;\n",
       "    }\n",
       "</style>\n",
       "<table border=\"1\" class=\"dataframe\">\n",
       "  <thead>\n",
       "    <tr style=\"text-align: right;\">\n",
       "      <th></th>\n",
       "      <th>day</th>\n",
       "      <th>mnth</th>\n",
       "      <th>year</th>\n",
       "      <th>season</th>\n",
       "      <th>holiday</th>\n",
       "      <th>weekday</th>\n",
       "      <th>workingday</th>\n",
       "      <th>weathersit</th>\n",
       "      <th>temp</th>\n",
       "      <th>atemp</th>\n",
       "      <th>hum</th>\n",
       "      <th>windspeed</th>\n",
       "    </tr>\n",
       "  </thead>\n",
       "  <tbody>\n",
       "    <tr>\n",
       "      <th>0</th>\n",
       "      <td>1</td>\n",
       "      <td>1</td>\n",
       "      <td>2011</td>\n",
       "      <td>1</td>\n",
       "      <td>0</td>\n",
       "      <td>6</td>\n",
       "      <td>0</td>\n",
       "      <td>2</td>\n",
       "      <td>0.344167</td>\n",
       "      <td>0.363625</td>\n",
       "      <td>0.805833</td>\n",
       "      <td>0.160446</td>\n",
       "    </tr>\n",
       "    <tr>\n",
       "      <th>1</th>\n",
       "      <td>2</td>\n",
       "      <td>1</td>\n",
       "      <td>2011</td>\n",
       "      <td>1</td>\n",
       "      <td>0</td>\n",
       "      <td>0</td>\n",
       "      <td>0</td>\n",
       "      <td>2</td>\n",
       "      <td>0.363478</td>\n",
       "      <td>0.353739</td>\n",
       "      <td>0.696087</td>\n",
       "      <td>0.248539</td>\n",
       "    </tr>\n",
       "    <tr>\n",
       "      <th>2</th>\n",
       "      <td>3</td>\n",
       "      <td>1</td>\n",
       "      <td>2011</td>\n",
       "      <td>1</td>\n",
       "      <td>0</td>\n",
       "      <td>1</td>\n",
       "      <td>1</td>\n",
       "      <td>1</td>\n",
       "      <td>0.196364</td>\n",
       "      <td>0.189405</td>\n",
       "      <td>0.437273</td>\n",
       "      <td>0.248309</td>\n",
       "    </tr>\n",
       "    <tr>\n",
       "      <th>3</th>\n",
       "      <td>4</td>\n",
       "      <td>1</td>\n",
       "      <td>2011</td>\n",
       "      <td>1</td>\n",
       "      <td>0</td>\n",
       "      <td>2</td>\n",
       "      <td>1</td>\n",
       "      <td>1</td>\n",
       "      <td>0.200000</td>\n",
       "      <td>0.212122</td>\n",
       "      <td>0.590435</td>\n",
       "      <td>0.160296</td>\n",
       "    </tr>\n",
       "    <tr>\n",
       "      <th>4</th>\n",
       "      <td>5</td>\n",
       "      <td>1</td>\n",
       "      <td>2011</td>\n",
       "      <td>1</td>\n",
       "      <td>0</td>\n",
       "      <td>3</td>\n",
       "      <td>1</td>\n",
       "      <td>1</td>\n",
       "      <td>0.226957</td>\n",
       "      <td>0.229270</td>\n",
       "      <td>0.436957</td>\n",
       "      <td>0.186900</td>\n",
       "    </tr>\n",
       "    <tr>\n",
       "      <th>...</th>\n",
       "      <td>...</td>\n",
       "      <td>...</td>\n",
       "      <td>...</td>\n",
       "      <td>...</td>\n",
       "      <td>...</td>\n",
       "      <td>...</td>\n",
       "      <td>...</td>\n",
       "      <td>...</td>\n",
       "      <td>...</td>\n",
       "      <td>...</td>\n",
       "      <td>...</td>\n",
       "      <td>...</td>\n",
       "    </tr>\n",
       "    <tr>\n",
       "      <th>726</th>\n",
       "      <td>27</td>\n",
       "      <td>12</td>\n",
       "      <td>2012</td>\n",
       "      <td>1</td>\n",
       "      <td>0</td>\n",
       "      <td>4</td>\n",
       "      <td>1</td>\n",
       "      <td>2</td>\n",
       "      <td>0.254167</td>\n",
       "      <td>0.226642</td>\n",
       "      <td>0.652917</td>\n",
       "      <td>0.350133</td>\n",
       "    </tr>\n",
       "    <tr>\n",
       "      <th>727</th>\n",
       "      <td>28</td>\n",
       "      <td>12</td>\n",
       "      <td>2012</td>\n",
       "      <td>1</td>\n",
       "      <td>0</td>\n",
       "      <td>5</td>\n",
       "      <td>1</td>\n",
       "      <td>2</td>\n",
       "      <td>0.253333</td>\n",
       "      <td>0.255046</td>\n",
       "      <td>0.590000</td>\n",
       "      <td>0.155471</td>\n",
       "    </tr>\n",
       "    <tr>\n",
       "      <th>728</th>\n",
       "      <td>29</td>\n",
       "      <td>12</td>\n",
       "      <td>2012</td>\n",
       "      <td>1</td>\n",
       "      <td>0</td>\n",
       "      <td>6</td>\n",
       "      <td>0</td>\n",
       "      <td>2</td>\n",
       "      <td>0.253333</td>\n",
       "      <td>0.242400</td>\n",
       "      <td>0.752917</td>\n",
       "      <td>0.124383</td>\n",
       "    </tr>\n",
       "    <tr>\n",
       "      <th>729</th>\n",
       "      <td>30</td>\n",
       "      <td>12</td>\n",
       "      <td>2012</td>\n",
       "      <td>1</td>\n",
       "      <td>0</td>\n",
       "      <td>0</td>\n",
       "      <td>0</td>\n",
       "      <td>1</td>\n",
       "      <td>0.255833</td>\n",
       "      <td>0.231700</td>\n",
       "      <td>0.483333</td>\n",
       "      <td>0.350754</td>\n",
       "    </tr>\n",
       "    <tr>\n",
       "      <th>730</th>\n",
       "      <td>31</td>\n",
       "      <td>12</td>\n",
       "      <td>2012</td>\n",
       "      <td>1</td>\n",
       "      <td>0</td>\n",
       "      <td>1</td>\n",
       "      <td>1</td>\n",
       "      <td>2</td>\n",
       "      <td>0.215833</td>\n",
       "      <td>0.223487</td>\n",
       "      <td>0.577500</td>\n",
       "      <td>0.154846</td>\n",
       "    </tr>\n",
       "  </tbody>\n",
       "</table>\n",
       "<p>731 rows × 12 columns</p>\n",
       "</div>"
      ],
      "text/plain": [
       "     day  mnth  year  season  holiday  weekday  workingday  weathersit  \\\n",
       "0      1     1  2011       1        0        6           0           2   \n",
       "1      2     1  2011       1        0        0           0           2   \n",
       "2      3     1  2011       1        0        1           1           1   \n",
       "3      4     1  2011       1        0        2           1           1   \n",
       "4      5     1  2011       1        0        3           1           1   \n",
       "..   ...   ...   ...     ...      ...      ...         ...         ...   \n",
       "726   27    12  2012       1        0        4           1           2   \n",
       "727   28    12  2012       1        0        5           1           2   \n",
       "728   29    12  2012       1        0        6           0           2   \n",
       "729   30    12  2012       1        0        0           0           1   \n",
       "730   31    12  2012       1        0        1           1           2   \n",
       "\n",
       "         temp     atemp       hum  windspeed  \n",
       "0    0.344167  0.363625  0.805833   0.160446  \n",
       "1    0.363478  0.353739  0.696087   0.248539  \n",
       "2    0.196364  0.189405  0.437273   0.248309  \n",
       "3    0.200000  0.212122  0.590435   0.160296  \n",
       "4    0.226957  0.229270  0.436957   0.186900  \n",
       "..        ...       ...       ...        ...  \n",
       "726  0.254167  0.226642  0.652917   0.350133  \n",
       "727  0.253333  0.255046  0.590000   0.155471  \n",
       "728  0.253333  0.242400  0.752917   0.124383  \n",
       "729  0.255833  0.231700  0.483333   0.350754  \n",
       "730  0.215833  0.223487  0.577500   0.154846  \n",
       "\n",
       "[731 rows x 12 columns]"
      ]
     },
     "execution_count": 303,
     "metadata": {},
     "output_type": "execute_result"
    }
   ],
   "source": [
    "x"
   ]
  },
  {
   "cell_type": "markdown",
   "metadata": {},
   "source": [
    "Diretrizes Comuns para Definir o test_size\n",
    "\n",
    "    Proporção Comum:\n",
    "        70% para treinamento e 30% para teste: É uma divisão muito comum.\n",
    "        80% para treinamento e 20% para teste: Também é bastante utilizada, especialmente se você tem muitos dados.\n",
    "        60% para treinamento e 40% para teste: Às vezes usada em contextos onde se deseja mais dados para avaliar o modelo, mas pode ser menos precisa para o treinamento, especialmente em datasets menores.\n",
    "\n",
    "    Considerações Baseadas no Tamanho dos Dados:\n",
    "        Datasets pequenos: Se você tiver poucos dados, a maior parte deles deve ser usada para treinamento para garantir que o modelo aprenda o máximo possível. Por exemplo, uma divisão 80-20 ou 90-10 pode ser mais apropriada.\n",
    "        Datasets grandes: Para grandes volumes de dados, uma divisão menor, como 70-30 ou até 60-40, pode ser suficiente, já que você tem muitos dados para treino e avaliação.\n",
    "        "
   ]
  },
  {
   "cell_type": "markdown",
   "metadata": {},
   "source": [
    "Muito Pouco Dado\n",
    "\n",
    "    Características:\n",
    "        Tamanho: Pouquíssimos exemplos, geralmente menos de 100 amostras.\n",
    "        Estratégia: Pode ser necessário usar técnicas de aumento de dados (data augmentation) ou modelos simples, além de considerar validação cruzada para melhor aproveitar os poucos dados disponíveis.\n",
    "\n",
    "Pouco Dado\n",
    "\n",
    "    Características:\n",
    "        Tamanho: Entre 100 e menos que 1000\n",
    "        Estratégia: Considerar o uso de modelos mais simples ou técnicas de regularização (como L2, dropout). Também é importante avaliar a qualidade dos dados.\n",
    "\n",
    "Médio Dado\n",
    "\n",
    "    Características:\n",
    "        Tamanho: 1000 e menos que 1000000\n",
    "        Estratégia: Modelos mais complexos começam a ser viáveis, mas ainda é importante ter um bom processo de validação e balanceamento de dados.\n",
    "Muito Dado\n",
    "\n",
    "    Características:\n",
    "        Tamanho: Acima de 1000000\n",
    "        Estratégia: Pode-se aplicar técnicas avançadas, como deep learning, modelos de ensemble, ou validação cruzada para garantir a qualidade do modelo."
   ]
  },
  {
   "cell_type": "code",
   "execution_count": 304,
   "metadata": {},
   "outputs": [],
   "source": [
    "# Train_test_split é uma função que separa os dados entre dados de teste e dados e treinamento,\n",
    "# test_size é a quantidade de dados que serão alocados para teste e de maneira inversa para o treinamento,\n",
    "# ou seja, e está com 0.4 quer dizer que 40% dos dados são para teste e 60% para o treinamento\n",
    "# o random_state=42 é arbitrario pela documentação, só garante a repordutividae do modelo, mas poderia ser qualquer\n",
    "# numero inteiro diferente de 0, pois o 0 ou None resultararia uma divisão diferente a cada execução\n",
    "X_train, X_test, y_train, y_test = train_test_split(x, y, test_size=0.05, random_state=42)"
   ]
  },
  {
   "cell_type": "code",
   "execution_count": 305,
   "metadata": {},
   "outputs": [],
   "source": [
    "# Utilizar os dados de treino para gerar o modelo de regressão linear\n",
    "model_regressaolinear = LinearRegression().fit(X_train,y_train)"
   ]
  },
  {
   "cell_type": "code",
   "execution_count": 306,
   "metadata": {},
   "outputs": [],
   "source": [
    "# Utilzia o .values pos o x_tese retorna um panda series e eu preciso somente dos valores sem o indice, o \n",
    "# metodo pede que use o reshap(-1,1), sempre que tiver somente uma coluna de dados, mas no caso estou usando varias colunas"
   ]
  },
  {
   "cell_type": "code",
   "execution_count": 307,
   "metadata": {},
   "outputs": [
    {
     "name": "stderr",
     "output_type": "stream",
     "text": [
      "c:\\Users\\edens\\AppData\\Local\\Programs\\Python\\Python312\\Lib\\site-packages\\sklearn\\utils\\validation.py:2739: UserWarning: X does not have valid feature names, but LinearRegression was fitted with feature names\n",
      "  warnings.warn(\n"
     ]
    }
   ],
   "source": [
    "# Utilizar os dados de teste para validar o modelo\n",
    "y_pred = model_regressaolinear.predict(X_test.values)"
   ]
  },
  {
   "cell_type": "code",
   "execution_count": 308,
   "metadata": {},
   "outputs": [
    {
     "name": "stdout",
     "output_type": "stream",
     "text": [
      "244.0053023760226\n",
      "104964.4961001609\n"
     ]
    }
   ],
   "source": [
    "print(mean_absolute_error(y_test,y_pred))\n",
    "print(mean_squared_error(y_test,y_pred))"
   ]
  },
  {
   "attachments": {
    "image.png": {
     "image/png": "[encoded data removed]"
    }
   },
   "cell_type": "markdown",
   "metadata": {},
   "source": [
    "![image.png](attachment:image.png)\n",
    "\n",
    "\n",
    "erro muito grande necessita de outro modelo\n"
   ]
  },
  {
   "cell_type": "code",
   "execution_count": 309,
   "metadata": {},
   "outputs": [
    {
     "name": "stdout",
     "output_type": "stream",
     "text": [
      "194.73325034518646\n",
      "84335.39046612915\n"
     ]
    }
   ],
   "source": [
    "model_randomflorest = RandomForestRegressor(n_estimators=500, max_depth=15, min_samples_split=10, random_state=42)\n",
    "X_train, X_test, y_train, y_test = train_test_split(x, y, test_size=0.2, random_state=1)\n",
    "model_randomflorest.fit(X_train,y_train)\n",
    "y_pred = model_randomflorest.predict(X_test)\n",
    "print(mean_absolute_error(y_test,y_pred))\n",
    "print(mean_squared_error(y_test,y_pred))"
   ]
  },
  {
   "cell_type": "code",
   "execution_count": 310,
   "metadata": {},
   "outputs": [
    {
     "data": {
      "image/png": "[encoded data removed]",
      "text/plain": [
       "<Figure size 640x480 with 1 Axes>"
      ]
     },
     "metadata": {},
     "output_type": "display_data"
    }
   ],
   "source": [
    "fig,ax = plt.subplots()\n",
    "\n",
    "ax.scatter(y_pred,y_test)\n",
    "plt.show()"
   ]
  },
  {
   "cell_type": "code",
   "execution_count": 311,
   "metadata": {},
   "outputs": [
    {
     "data": {
      "text/plain": [
       "Index(['day', 'mnth', 'year', 'season', 'holiday', 'weekday', 'workingday',\n",
       "       'weathersit', 'temp', 'atemp', 'hum', 'windspeed', 'rentals'],\n",
       "      dtype='object')"
      ]
     },
     "execution_count": 311,
     "metadata": {},
     "output_type": "execute_result"
    }
   ],
   "source": [
    "df_regression.columns"
   ]
  },
  {
   "cell_type": "markdown",
   "metadata": {},
   "source": [
    "## Para testar a previsão baseado em dados de entrada do usuario"
   ]
  },
  {
   "cell_type": "code",
   "execution_count": 312,
   "metadata": {},
   "outputs": [],
   "source": [
    "# Primerio vamos criar o arquivo jason\n",
    "\n",
    "file = open('dados_usuario.json', 'w+')\n",
    "\n",
    "js.dump({colunas:0 for colunas in df_regression.columns if colunas != 'rentals'}, file, indent=2)\n",
    "file.close()\n"
   ]
  },
  {
   "cell_type": "markdown",
   "metadata": {},
   "source": [
    "## Agora para testar o arquivo, o programa deve ler o jason com as alterações do usuarios"
   ]
  },
  {
   "cell_type": "code",
   "execution_count": 313,
   "metadata": {},
   "outputs": [
    {
     "name": "stdout",
     "output_type": "stream",
     "text": [
      "{'day': 0, 'mnth': 0, 'year': 0, 'season': 0, 'holiday': 0, 'weekday': 0, 'workingday': 0, 'weathersit': 0, 'temp': 0, 'atemp': 0, 'hum': 0, 'windspeed': 0}\n"
     ]
    }
   ],
   "source": [
    "file=open('dados_usuario.json','r+')\n",
    "dados=js.load(file)\n",
    "file.close()\n",
    "print(dados)"
   ]
  },
  {
   "cell_type": "code",
   "execution_count": 314,
   "metadata": {},
   "outputs": [],
   "source": [
    "# Para o modelo ler os dados precisa ser um array 2D, ouseja uma matriz, então preciso transofrmar os valores em lista e depois essa lista\n",
    "# em outra lista, para que vire uma matriz 1 x 3, onde será uma linha e 3 colunas e assim o modelo conseguir entender cada coluna,\n",
    "# colocando os dados do tipo float e assim executando a previsão\n",
    "dados_usuario = np.array([list(dados.values())]).astype(float)"
   ]
  },
  {
   "cell_type": "code",
   "execution_count": 315,
   "metadata": {},
   "outputs": [
    {
     "name": "stdout",
     "output_type": "stream",
     "text": [
      "[-599720.29504903] [210.15097294]\n"
     ]
    },
    {
     "name": "stderr",
     "output_type": "stream",
     "text": [
      "c:\\Users\\edens\\AppData\\Local\\Programs\\Python\\Python312\\Lib\\site-packages\\sklearn\\utils\\validation.py:2739: UserWarning: X does not have valid feature names, but LinearRegression was fitted with feature names\n",
      "  warnings.warn(\n",
      "c:\\Users\\edens\\AppData\\Local\\Programs\\Python\\Python312\\Lib\\site-packages\\sklearn\\utils\\validation.py:2739: UserWarning: X does not have valid feature names, but RandomForestRegressor was fitted with feature names\n",
      "  warnings.warn(\n"
     ]
    }
   ],
   "source": [
    "y_pred_rl = model_regressaolinear.predict(dados_usuario)\n",
    "y_pred_rf = model_randomflorest.predict(dados_usuario)\n",
    "print(y_pred_rl, y_pred_rf)"
   ]
  },
  {
   "cell_type": "code",
   "execution_count": null,
   "metadata": {},
   "outputs": [],
   "source": []
  }
 ],
 "metadata": {
  "kernelspec": {
   "display_name": "Python 3",
   "language": "python",
   "name": "python3"
  },
  "language_info": {
   "codemirror_mode": {
    "name": "ipython",
    "version": 3
   },
   "file_extension": ".py",
   "mimetype": "text/x-python",
   "name": "python",
   "nbconvert_exporter": "python",
   "pygments_lexer": "ipython3",
   "version": "3.12.4"
  }
 },
 "nbformat": 4,
 "nbformat_minor": 2
}
