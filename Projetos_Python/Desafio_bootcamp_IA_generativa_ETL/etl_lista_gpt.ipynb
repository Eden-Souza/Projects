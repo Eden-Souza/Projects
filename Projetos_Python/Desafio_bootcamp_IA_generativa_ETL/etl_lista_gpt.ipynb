{
 "cells": [
  {
   "cell_type": "markdown",
   "metadata": {},
   "source": [
    "# Desafio Bootcamp Santander \n",
    "Utilizando ETL (EXTRACT, TRANSFORM AND LOAD)\n"
   ]
  },
  {
   "cell_type": "markdown",
   "metadata": {},
   "source": [
    "# Disclaimer\n",
    "No desafio deveria ser usado uma API, porém a mesma está dando erro com o servidor, logo será requisitado para o chatgpt que crie os dados em\n",
    "formato CSV para realizar a leitura do arquivo"
   ]
  },
  {
   "cell_type": "markdown",
   "metadata": {},
   "source": [
    "PEPILINE - > import pandas -> leitura do arquivo-> input pelo usuario do arquivo que ele necessita olhar -> input quais informações ele deseja ->\n"
   ]
  },
  {
   "cell_type": "code",
   "execution_count": 3,
   "metadata": {},
   "outputs": [],
   "source": [
    "import pandas as pd"
   ]
  },
  {
   "cell_type": "code",
   "execution_count": 4,
   "metadata": {},
   "outputs": [
    {
     "name": "stdout",
     "output_type": "stream",
     "text": [
      "<class 'pandas.core.frame.DataFrame'>\n",
      "RangeIndex: 3 entries, 0 to 2\n",
      "Data columns (total 9 columns):\n",
      " #   Column          Non-Null Count  Dtype \n",
      "---  ------          --------------  ----- \n",
      " 0   user_id         3 non-null      object\n",
      " 1   name            3 non-null      object\n",
      " 2   account_id      3 non-null      object\n",
      " 3   account_number  3 non-null      int64 \n",
      " 4   agency          3 non-null      int64 \n",
      " 5   account_limit   3 non-null      int64 \n",
      " 6   card_id         3 non-null      object\n",
      " 7   card_number     3 non-null      object\n",
      " 8   card_limit      3 non-null      int64 \n",
      "dtypes: int64(4), object(5)\n",
      "memory usage: 348.0+ bytes\n"
     ]
    },
    {
     "data": {
      "text/html": [
       "<div>\n",
       "<style scoped>\n",
       "    .dataframe tbody tr th:only-of-type {\n",
       "        vertical-align: middle;\n",
       "    }\n",
       "\n",
       "    .dataframe tbody tr th {\n",
       "        vertical-align: top;\n",
       "    }\n",
       "\n",
       "    .dataframe thead th {\n",
       "        text-align: right;\n",
       "    }\n",
       "</style>\n",
       "<table border=\"1\" class=\"dataframe\">\n",
       "  <thead>\n",
       "    <tr style=\"text-align: right;\">\n",
       "      <th></th>\n",
       "      <th>user_id</th>\n",
       "      <th>name</th>\n",
       "      <th>account_id</th>\n",
       "      <th>account_number</th>\n",
       "      <th>agency</th>\n",
       "      <th>account_limit</th>\n",
       "      <th>card_id</th>\n",
       "      <th>card_number</th>\n",
       "      <th>card_limit</th>\n",
       "    </tr>\n",
       "  </thead>\n",
       "  <tbody>\n",
       "    <tr>\n",
       "      <th>0</th>\n",
       "      <td>user_001</td>\n",
       "      <td>Queryn</td>\n",
       "      <td>acc_001</td>\n",
       "      <td>12345678</td>\n",
       "      <td>1</td>\n",
       "      <td>5000</td>\n",
       "      <td>card_001</td>\n",
       "      <td>1111-2222-3333-4444</td>\n",
       "      <td>10000</td>\n",
       "    </tr>\n",
       "    <tr>\n",
       "      <th>1</th>\n",
       "      <td>user_002</td>\n",
       "      <td>Dasherson</td>\n",
       "      <td>acc_002</td>\n",
       "      <td>87654321</td>\n",
       "      <td>2</td>\n",
       "      <td>7000</td>\n",
       "      <td>card_002</td>\n",
       "      <td>5555-6666-7777-8888</td>\n",
       "      <td>15000</td>\n",
       "    </tr>\n",
       "    <tr>\n",
       "      <th>2</th>\n",
       "      <td>user_003</td>\n",
       "      <td>Pivot</td>\n",
       "      <td>acc_003</td>\n",
       "      <td>56781234</td>\n",
       "      <td>3</td>\n",
       "      <td>6000</td>\n",
       "      <td>card_003</td>\n",
       "      <td>9999-0000-1111-2222</td>\n",
       "      <td>12000</td>\n",
       "    </tr>\n",
       "  </tbody>\n",
       "</table>\n",
       "</div>"
      ],
      "text/plain": [
       "    user_id       name account_id  account_number  agency  account_limit  \\\n",
       "0  user_001     Queryn    acc_001        12345678       1           5000   \n",
       "1  user_002  Dasherson    acc_002        87654321       2           7000   \n",
       "2  user_003      Pivot    acc_003        56781234       3           6000   \n",
       "\n",
       "    card_id          card_number  card_limit  \n",
       "0  card_001  1111-2222-3333-4444       10000  \n",
       "1  card_002  5555-6666-7777-8888       15000  \n",
       "2  card_003  9999-0000-1111-2222       12000  "
      ]
     },
     "execution_count": 4,
     "metadata": {},
     "output_type": "execute_result"
    }
   ],
   "source": [
    "df = pd.read_csv('user_data.csv',sep=\";\", index_col=None)\n",
    "\n",
    "df.info()\n",
    "df.head()"
   ]
  },
  {
   "cell_type": "code",
   "execution_count": 5,
   "metadata": {},
   "outputs": [
    {
     "data": {
      "text/plain": [
       "{'user_id': ['user_001', 'user_002', 'user_003'],\n",
       " 'name': ['Queryn', 'Dasherson', 'Pivot'],\n",
       " 'account_id': ['acc_001', 'acc_002', 'acc_003'],\n",
       " 'account_number': [12345678, 87654321, 56781234],\n",
       " 'agency': [1, 2, 3],\n",
       " 'account_limit': [5000, 7000, 6000],\n",
       " 'card_id': ['card_001', 'card_002', 'card_003'],\n",
       " 'card_number': ['1111-2222-3333-4444',\n",
       "  '5555-6666-7777-8888',\n",
       "  '9999-0000-1111-2222'],\n",
       " 'card_limit': [10000, 15000, 12000]}"
      ]
     },
     "execution_count": 5,
     "metadata": {},
     "output_type": "execute_result"
    }
   ],
   "source": [
    "\n",
    "dicionario_dados = df.to_dict(orient='list')\n",
    "\n",
    "dicionario_dados"
   ]
  },
  {
   "cell_type": "code",
   "execution_count": 6,
   "metadata": {},
   "outputs": [],
   "source": [
    "def informe_solicitado(numero):\n",
    "    informe_usuario={}\n",
    "    for chave in dicionario_dados:\n",
    "        valor_solicitado = dicionario_dados[chave]\n",
    "        informe_usuario[chave]= valor_solicitado[numero-1]\n",
    "    return informe_usuario"
   ]
  },
  {
   "cell_type": "code",
   "execution_count": 7,
   "metadata": {},
   "outputs": [
    {
     "data": {
      "text/plain": [
       "{'user_id': 'user_003',\n",
       " 'name': 'Pivot',\n",
       " 'account_id': 'acc_003',\n",
       " 'account_number': 56781234,\n",
       " 'agency': 3,\n",
       " 'account_limit': 6000,\n",
       " 'card_id': 'card_003',\n",
       " 'card_number': '9999-0000-1111-2222',\n",
       " 'card_limit': 12000}"
      ]
     },
     "execution_count": 7,
     "metadata": {},
     "output_type": "execute_result"
    }
   ],
   "source": [
    "informe_solicitado(3)"
   ]
  },
  {
   "cell_type": "markdown",
   "metadata": {},
   "source": [
    "# Creditos vencidos na API, então será colocado as recomendações no chat em um arquivo csv e depois adicionados para a leitura aqui\n",
    "\n"
   ]
  },
  {
   "cell_type": "code",
   "execution_count": 8,
   "metadata": {},
   "outputs": [
    {
     "data": {
      "text/plain": [
       "{0: 'Recomendo uma conta digital com rendimento automático. Com um limite de conta de R$6.000 e cartão de R$12.000, Pivot pode otimizar seus recursos, ganhando rendimento sobre o saldo sem complicações, enquanto mantém acesso fácil e gratuito aos serviços bancários;'}"
      ]
     },
     "execution_count": 8,
     "metadata": {},
     "output_type": "execute_result"
    }
   ],
   "source": [
    "recomendation = pd.read_csv('recomendacoes_financeiras.csv')\n",
    "disc_recomendations = recomendation.to_dict()\n",
    "disc_recomendations[\"3\"]"
   ]
  },
  {
   "cell_type": "code",
   "execution_count": 9,
   "metadata": {},
   "outputs": [],
   "source": [
    "list_recomendation=[]\n",
    "disc_recomendation = {}\n",
    "for keys,numero in disc_recomendations.items():\n",
    "    recomendation_dict=disc_recomendations[keys]\n",
    "    for index in recomendation_dict.keys():\n",
    "        list_recomendation.append(recomendation_dict[index])"
   ]
  },
  {
   "cell_type": "markdown",
   "metadata": {},
   "source": [
    "Peguei os dados gerados e gerei valor com eles, agora preciso os carregar no dicionario padrão novamente"
   ]
  },
  {
   "cell_type": "code",
   "execution_count": 10,
   "metadata": {},
   "outputs": [
    {
     "data": {
      "text/plain": [
       "{'user_id': ['user_001', 'user_002', 'user_003'],\n",
       " 'name': ['Queryn', 'Dasherson', 'Pivot'],\n",
       " 'account_id': ['acc_001', 'acc_002', 'acc_003'],\n",
       " 'account_number': [12345678, 87654321, 56781234],\n",
       " 'agency': [1, 2, 3],\n",
       " 'account_limit': [5000, 7000, 6000],\n",
       " 'card_id': ['card_001', 'card_002', 'card_003'],\n",
       " 'card_number': ['1111-2222-3333-4444',\n",
       "  '5555-6666-7777-8888',\n",
       "  '9999-0000-1111-2222'],\n",
       " 'card_limit': [10000, 15000, 12000]}"
      ]
     },
     "execution_count": 10,
     "metadata": {},
     "output_type": "execute_result"
    }
   ],
   "source": [
    "dicionario_dados"
   ]
  },
  {
   "cell_type": "code",
   "execution_count": 11,
   "metadata": {},
   "outputs": [
    {
     "data": {
      "text/plain": [
       "{'user_id': ['user_001', 'user_002', 'user_003'],\n",
       " 'name': ['Queryn', 'Dasherson', 'Pivot'],\n",
       " 'account_id': ['acc_001', 'acc_002', 'acc_003'],\n",
       " 'account_number': [12345678, 87654321, 56781234],\n",
       " 'agency': [1, 2, 3],\n",
       " 'account_limit': [5000, 7000, 6000],\n",
       " 'card_id': ['card_001', 'card_002', 'card_003'],\n",
       " 'card_number': ['1111-2222-3333-4444',\n",
       "  '5555-6666-7777-8888',\n",
       "  '9999-0000-1111-2222'],\n",
       " 'card_limit': [10000, 15000, 12000],\n",
       " 'marketing': ['Recomendo um cartão de crédito com cashback. Com um limite de R$10.000, Queryn pode aproveitar recompensas em compras do dia a dia, maximizando o valor do uso do cartão. Isso se alinha ao seu perfil, permitindo um gerenciamento eficiente do limite e incentivando gastos conscientes;',\n",
       "  'Recomendo um empréstimo pessoal com taxa de juros baixa. Com um limite de conta de R$7.000 e um cartão de R$15.000, Dasherson pode usar essa opção para financiar projetos ou emergências, mantendo a flexibilidade financeira e evitando juros altos de crédito rotativo;',\n",
       "  'Recomendo uma conta digital com rendimento automático. Com um limite de conta de R$6.000 e cartão de R$12.000, Pivot pode otimizar seus recursos, ganhando rendimento sobre o saldo sem complicações, enquanto mantém acesso fácil e gratuito aos serviços bancários;']}"
      ]
     },
     "execution_count": 11,
     "metadata": {},
     "output_type": "execute_result"
    }
   ],
   "source": [
    "for position in range (0,3):\n",
    "    dicionario_dados[\"marketing\"]=list_recomendation\n",
    "dicionario_dados"
   ]
  },
  {
   "cell_type": "markdown",
   "metadata": {},
   "source": [
    "Finalizou a parte de agregação de valor, agora como transformar isso em um dataframe de novo e um csv"
   ]
  },
  {
   "cell_type": "code",
   "execution_count": 12,
   "metadata": {},
   "outputs": [
    {
     "data": {
      "text/html": [
       "<div>\n",
       "<style scoped>\n",
       "    .dataframe tbody tr th:only-of-type {\n",
       "        vertical-align: middle;\n",
       "    }\n",
       "\n",
       "    .dataframe tbody tr th {\n",
       "        vertical-align: top;\n",
       "    }\n",
       "\n",
       "    .dataframe thead th {\n",
       "        text-align: right;\n",
       "    }\n",
       "</style>\n",
       "<table border=\"1\" class=\"dataframe\">\n",
       "  <thead>\n",
       "    <tr style=\"text-align: right;\">\n",
       "      <th></th>\n",
       "      <th>user_id</th>\n",
       "      <th>name</th>\n",
       "      <th>account_id</th>\n",
       "      <th>account_number</th>\n",
       "      <th>agency</th>\n",
       "      <th>account_limit</th>\n",
       "      <th>card_id</th>\n",
       "      <th>card_number</th>\n",
       "      <th>card_limit</th>\n",
       "      <th>marketing</th>\n",
       "    </tr>\n",
       "  </thead>\n",
       "  <tbody>\n",
       "    <tr>\n",
       "      <th>0</th>\n",
       "      <td>user_001</td>\n",
       "      <td>Queryn</td>\n",
       "      <td>acc_001</td>\n",
       "      <td>12345678</td>\n",
       "      <td>1</td>\n",
       "      <td>5000</td>\n",
       "      <td>card_001</td>\n",
       "      <td>1111-2222-3333-4444</td>\n",
       "      <td>10000</td>\n",
       "      <td>Recomendo um cartão de crédito com cashback. C...</td>\n",
       "    </tr>\n",
       "    <tr>\n",
       "      <th>1</th>\n",
       "      <td>user_002</td>\n",
       "      <td>Dasherson</td>\n",
       "      <td>acc_002</td>\n",
       "      <td>87654321</td>\n",
       "      <td>2</td>\n",
       "      <td>7000</td>\n",
       "      <td>card_002</td>\n",
       "      <td>5555-6666-7777-8888</td>\n",
       "      <td>15000</td>\n",
       "      <td>Recomendo um empréstimo pessoal com taxa de ju...</td>\n",
       "    </tr>\n",
       "    <tr>\n",
       "      <th>2</th>\n",
       "      <td>user_003</td>\n",
       "      <td>Pivot</td>\n",
       "      <td>acc_003</td>\n",
       "      <td>56781234</td>\n",
       "      <td>3</td>\n",
       "      <td>6000</td>\n",
       "      <td>card_003</td>\n",
       "      <td>9999-0000-1111-2222</td>\n",
       "      <td>12000</td>\n",
       "      <td>Recomendo uma conta digital com rendimento aut...</td>\n",
       "    </tr>\n",
       "  </tbody>\n",
       "</table>\n",
       "</div>"
      ],
      "text/plain": [
       "    user_id       name account_id  account_number  agency  account_limit  \\\n",
       "0  user_001     Queryn    acc_001        12345678       1           5000   \n",
       "1  user_002  Dasherson    acc_002        87654321       2           7000   \n",
       "2  user_003      Pivot    acc_003        56781234       3           6000   \n",
       "\n",
       "    card_id          card_number  card_limit  \\\n",
       "0  card_001  1111-2222-3333-4444       10000   \n",
       "1  card_002  5555-6666-7777-8888       15000   \n",
       "2  card_003  9999-0000-1111-2222       12000   \n",
       "\n",
       "                                           marketing  \n",
       "0  Recomendo um cartão de crédito com cashback. C...  \n",
       "1  Recomendo um empréstimo pessoal com taxa de ju...  \n",
       "2  Recomendo uma conta digital com rendimento aut...  "
      ]
     },
     "execution_count": 12,
     "metadata": {},
     "output_type": "execute_result"
    }
   ],
   "source": [
    "df_final = pd.DataFrame(dicionario_dados)\n",
    "df_final.head()"
   ]
  },
  {
   "cell_type": "code",
   "execution_count": 13,
   "metadata": {},
   "outputs": [],
   "source": [
    "df_final.to_csv('projeto_final.csv', index=False,sep=\";\")"
   ]
  },
  {
   "cell_type": "markdown",
   "metadata": {},
   "source": [
    "## Final do primeiro projeto do Curso de Ciência de dados da bolsa do santander da DIO"
   ]
  },
  {
   "cell_type": "markdown",
   "metadata": {},
   "source": [
    "USANDO METODO QUERY "
   ]
  },
  {
   "cell_type": "code",
   "execution_count": 14,
   "metadata": {},
   "outputs": [
    {
     "data": {
      "text/html": [
       "<div>\n",
       "<style scoped>\n",
       "    .dataframe tbody tr th:only-of-type {\n",
       "        vertical-align: middle;\n",
       "    }\n",
       "\n",
       "    .dataframe tbody tr th {\n",
       "        vertical-align: top;\n",
       "    }\n",
       "\n",
       "    .dataframe thead th {\n",
       "        text-align: right;\n",
       "    }\n",
       "</style>\n",
       "<table border=\"1\" class=\"dataframe\">\n",
       "  <thead>\n",
       "    <tr style=\"text-align: right;\">\n",
       "      <th></th>\n",
       "      <th>user_id</th>\n",
       "      <th>name</th>\n",
       "      <th>account_id</th>\n",
       "      <th>account_number</th>\n",
       "      <th>agency</th>\n",
       "      <th>account_limit</th>\n",
       "      <th>card_id</th>\n",
       "      <th>card_number</th>\n",
       "      <th>card_limit</th>\n",
       "      <th>marketing</th>\n",
       "    </tr>\n",
       "  </thead>\n",
       "  <tbody>\n",
       "    <tr>\n",
       "      <th>0</th>\n",
       "      <td>user_001</td>\n",
       "      <td>Queryn</td>\n",
       "      <td>acc_001</td>\n",
       "      <td>12345678</td>\n",
       "      <td>1</td>\n",
       "      <td>5000</td>\n",
       "      <td>card_001</td>\n",
       "      <td>1111-2222-3333-4444</td>\n",
       "      <td>10000</td>\n",
       "      <td>Recomendo um cartão de crédito com cashback. C...</td>\n",
       "    </tr>\n",
       "    <tr>\n",
       "      <th>1</th>\n",
       "      <td>user_002</td>\n",
       "      <td>Dasherson</td>\n",
       "      <td>acc_002</td>\n",
       "      <td>87654321</td>\n",
       "      <td>2</td>\n",
       "      <td>7000</td>\n",
       "      <td>card_002</td>\n",
       "      <td>5555-6666-7777-8888</td>\n",
       "      <td>15000</td>\n",
       "      <td>Recomendo um empréstimo pessoal com taxa de ju...</td>\n",
       "    </tr>\n",
       "    <tr>\n",
       "      <th>2</th>\n",
       "      <td>user_003</td>\n",
       "      <td>Pivot</td>\n",
       "      <td>acc_003</td>\n",
       "      <td>56781234</td>\n",
       "      <td>3</td>\n",
       "      <td>6000</td>\n",
       "      <td>card_003</td>\n",
       "      <td>9999-0000-1111-2222</td>\n",
       "      <td>12000</td>\n",
       "      <td>Recomendo uma conta digital com rendimento aut...</td>\n",
       "    </tr>\n",
       "  </tbody>\n",
       "</table>\n",
       "</div>"
      ],
      "text/plain": [
       "    user_id       name account_id  account_number  agency  account_limit  \\\n",
       "0  user_001     Queryn    acc_001        12345678       1           5000   \n",
       "1  user_002  Dasherson    acc_002        87654321       2           7000   \n",
       "2  user_003      Pivot    acc_003        56781234       3           6000   \n",
       "\n",
       "    card_id          card_number  card_limit  \\\n",
       "0  card_001  1111-2222-3333-4444       10000   \n",
       "1  card_002  5555-6666-7777-8888       15000   \n",
       "2  card_003  9999-0000-1111-2222       12000   \n",
       "\n",
       "                                           marketing  \n",
       "0  Recomendo um cartão de crédito com cashback. C...  \n",
       "1  Recomendo um empréstimo pessoal com taxa de ju...  \n",
       "2  Recomendo uma conta digital com rendimento aut...  "
      ]
     },
     "execution_count": 14,
     "metadata": {},
     "output_type": "execute_result"
    }
   ],
   "source": [
    "df_final.head()"
   ]
  },
  {
   "cell_type": "code",
   "execution_count": 15,
   "metadata": {},
   "outputs": [
    {
     "data": {
      "text/html": [
       "<div>\n",
       "<style scoped>\n",
       "    .dataframe tbody tr th:only-of-type {\n",
       "        vertical-align: middle;\n",
       "    }\n",
       "\n",
       "    .dataframe tbody tr th {\n",
       "        vertical-align: top;\n",
       "    }\n",
       "\n",
       "    .dataframe thead th {\n",
       "        text-align: right;\n",
       "    }\n",
       "</style>\n",
       "<table border=\"1\" class=\"dataframe\">\n",
       "  <thead>\n",
       "    <tr style=\"text-align: right;\">\n",
       "      <th></th>\n",
       "      <th>user_id</th>\n",
       "      <th>name</th>\n",
       "      <th>account_id</th>\n",
       "      <th>account_number</th>\n",
       "      <th>agency</th>\n",
       "      <th>account_limit</th>\n",
       "      <th>card_id</th>\n",
       "      <th>card_number</th>\n",
       "      <th>card_limit</th>\n",
       "      <th>marketing</th>\n",
       "    </tr>\n",
       "  </thead>\n",
       "  <tbody>\n",
       "    <tr>\n",
       "      <th>1</th>\n",
       "      <td>user_002</td>\n",
       "      <td>Dasherson</td>\n",
       "      <td>acc_002</td>\n",
       "      <td>87654321</td>\n",
       "      <td>2</td>\n",
       "      <td>7000</td>\n",
       "      <td>card_002</td>\n",
       "      <td>5555-6666-7777-8888</td>\n",
       "      <td>15000</td>\n",
       "      <td>Recomendo um empréstimo pessoal com taxa de ju...</td>\n",
       "    </tr>\n",
       "    <tr>\n",
       "      <th>2</th>\n",
       "      <td>user_003</td>\n",
       "      <td>Pivot</td>\n",
       "      <td>acc_003</td>\n",
       "      <td>56781234</td>\n",
       "      <td>3</td>\n",
       "      <td>6000</td>\n",
       "      <td>card_003</td>\n",
       "      <td>9999-0000-1111-2222</td>\n",
       "      <td>12000</td>\n",
       "      <td>Recomendo uma conta digital com rendimento aut...</td>\n",
       "    </tr>\n",
       "  </tbody>\n",
       "</table>\n",
       "</div>"
      ],
      "text/plain": [
       "    user_id       name account_id  account_number  agency  account_limit  \\\n",
       "1  user_002  Dasherson    acc_002        87654321       2           7000   \n",
       "2  user_003      Pivot    acc_003        56781234       3           6000   \n",
       "\n",
       "    card_id          card_number  card_limit  \\\n",
       "1  card_002  5555-6666-7777-8888       15000   \n",
       "2  card_003  9999-0000-1111-2222       12000   \n",
       "\n",
       "                                           marketing  \n",
       "1  Recomendo um empréstimo pessoal com taxa de ju...  \n",
       "2  Recomendo uma conta digital com rendimento aut...  "
      ]
     },
     "execution_count": 15,
     "metadata": {},
     "output_type": "execute_result"
    }
   ],
   "source": [
    "df_final[df_final['account_limit']>=6000]"
   ]
  },
  {
   "cell_type": "code",
   "execution_count": 19,
   "metadata": {},
   "outputs": [
    {
     "data": {
      "text/html": [
       "<div>\n",
       "<style scoped>\n",
       "    .dataframe tbody tr th:only-of-type {\n",
       "        vertical-align: middle;\n",
       "    }\n",
       "\n",
       "    .dataframe tbody tr th {\n",
       "        vertical-align: top;\n",
       "    }\n",
       "\n",
       "    .dataframe thead th {\n",
       "        text-align: right;\n",
       "    }\n",
       "</style>\n",
       "<table border=\"1\" class=\"dataframe\">\n",
       "  <thead>\n",
       "    <tr style=\"text-align: right;\">\n",
       "      <th></th>\n",
       "      <th>user_id</th>\n",
       "      <th>name</th>\n",
       "      <th>account_id</th>\n",
       "      <th>account_number</th>\n",
       "      <th>agency</th>\n",
       "      <th>account_limit</th>\n",
       "      <th>card_id</th>\n",
       "      <th>card_number</th>\n",
       "      <th>card_limit</th>\n",
       "      <th>marketing</th>\n",
       "    </tr>\n",
       "  </thead>\n",
       "  <tbody>\n",
       "    <tr>\n",
       "      <th>1</th>\n",
       "      <td>user_002</td>\n",
       "      <td>Dasherson</td>\n",
       "      <td>acc_002</td>\n",
       "      <td>87654321</td>\n",
       "      <td>2</td>\n",
       "      <td>7000</td>\n",
       "      <td>card_002</td>\n",
       "      <td>5555-6666-7777-8888</td>\n",
       "      <td>15000</td>\n",
       "      <td>Recomendo um empréstimo pessoal com taxa de ju...</td>\n",
       "    </tr>\n",
       "    <tr>\n",
       "      <th>2</th>\n",
       "      <td>user_003</td>\n",
       "      <td>Pivot</td>\n",
       "      <td>acc_003</td>\n",
       "      <td>56781234</td>\n",
       "      <td>3</td>\n",
       "      <td>6000</td>\n",
       "      <td>card_003</td>\n",
       "      <td>9999-0000-1111-2222</td>\n",
       "      <td>12000</td>\n",
       "      <td>Recomendo uma conta digital com rendimento aut...</td>\n",
       "    </tr>\n",
       "  </tbody>\n",
       "</table>\n",
       "</div>"
      ],
      "text/plain": [
       "    user_id       name account_id  account_number  agency  account_limit  \\\n",
       "1  user_002  Dasherson    acc_002        87654321       2           7000   \n",
       "2  user_003      Pivot    acc_003        56781234       3           6000   \n",
       "\n",
       "    card_id          card_number  card_limit  \\\n",
       "1  card_002  5555-6666-7777-8888       15000   \n",
       "2  card_003  9999-0000-1111-2222       12000   \n",
       "\n",
       "                                           marketing  \n",
       "1  Recomendo um empréstimo pessoal com taxa de ju...  \n",
       "2  Recomendo uma conta digital com rendimento aut...  "
      ]
     },
     "execution_count": 19,
     "metadata": {},
     "output_type": "execute_result"
    }
   ],
   "source": [
    "df_final.query('account_limit >=6000')"
   ]
  },
  {
   "cell_type": "code",
   "execution_count": 22,
   "metadata": {},
   "outputs": [
    {
     "data": {
      "text/html": [
       "<div>\n",
       "<style scoped>\n",
       "    .dataframe tbody tr th:only-of-type {\n",
       "        vertical-align: middle;\n",
       "    }\n",
       "\n",
       "    .dataframe tbody tr th {\n",
       "        vertical-align: top;\n",
       "    }\n",
       "\n",
       "    .dataframe thead th {\n",
       "        text-align: right;\n",
       "    }\n",
       "</style>\n",
       "<table border=\"1\" class=\"dataframe\">\n",
       "  <thead>\n",
       "    <tr style=\"text-align: right;\">\n",
       "      <th></th>\n",
       "      <th>name</th>\n",
       "      <th>account_id</th>\n",
       "    </tr>\n",
       "  </thead>\n",
       "  <tbody>\n",
       "    <tr>\n",
       "      <th>1</th>\n",
       "      <td>Dasherson</td>\n",
       "      <td>acc_002</td>\n",
       "    </tr>\n",
       "    <tr>\n",
       "      <th>2</th>\n",
       "      <td>Pivot</td>\n",
       "      <td>acc_003</td>\n",
       "    </tr>\n",
       "  </tbody>\n",
       "</table>\n",
       "</div>"
      ],
      "text/plain": [
       "        name account_id\n",
       "1  Dasherson    acc_002\n",
       "2      Pivot    acc_003"
      ]
     },
     "execution_count": 22,
     "metadata": {},
     "output_type": "execute_result"
    }
   ],
   "source": [
    "df_final.query('account_limit >=6000')[['name','account_id']]"
   ]
  },
  {
   "cell_type": "code",
   "execution_count": null,
   "metadata": {},
   "outputs": [],
   "source": []
  }
 ],
 "metadata": {
  "kernelspec": {
   "display_name": "Python 3",
   "language": "python",
   "name": "python3"
  },
  "language_info": {
   "codemirror_mode": {
    "name": "ipython",
    "version": 3
   },
   "file_extension": ".py",
   "mimetype": "text/x-python",
   "name": "python",
   "nbconvert_exporter": "python",
   "pygments_lexer": "ipython3",
   "version": "3.12.4"
  }
 },
 "nbformat": 4,
 "nbformat_minor": 2
}
